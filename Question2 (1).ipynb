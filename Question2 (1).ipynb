{
 "cells": [
  {
   "cell_type": "markdown",
   "metadata": {},
   "source": [
    "\n",
    "#### Part A\\\n",
    "\\\n",
    "Load the titanic.csv file into a data frame. Are there any missing values in the\n",
    "data frame? How many missing values occur for each of the columns?\n"
   ]
  },
  {
   "cell_type": "code",
   "execution_count": 124,
   "metadata": {},
   "outputs": [
    {
     "data": {
      "text/html": [
       "0"
      ],
      "text/latex": [
       "0"
      ],
      "text/markdown": [
       "0"
      ],
      "text/plain": [
       "[1] 0"
      ]
     },
     "metadata": {},
     "output_type": "display_data"
    },
    {
     "data": {
      "text/html": [
       "0"
      ],
      "text/latex": [
       "0"
      ],
      "text/markdown": [
       "0"
      ],
      "text/plain": [
       "[1] 0"
      ]
     },
     "metadata": {},
     "output_type": "display_data"
    },
    {
     "data": {
      "text/html": [
       "0"
      ],
      "text/latex": [
       "0"
      ],
      "text/markdown": [
       "0"
      ],
      "text/plain": [
       "[1] 0"
      ]
     },
     "metadata": {},
     "output_type": "display_data"
    },
    {
     "data": {
      "text/html": [
       "0"
      ],
      "text/latex": [
       "0"
      ],
      "text/markdown": [
       "0"
      ],
      "text/plain": [
       "[1] 0"
      ]
     },
     "metadata": {},
     "output_type": "display_data"
    },
    {
     "data": {
      "text/html": [
       "0"
      ],
      "text/latex": [
       "0"
      ],
      "text/markdown": [
       "0"
      ],
      "text/plain": [
       "[1] 0"
      ]
     },
     "metadata": {},
     "output_type": "display_data"
    },
    {
     "data": {
      "text/html": [
       "177"
      ],
      "text/latex": [
       "177"
      ],
      "text/markdown": [
       "177"
      ],
      "text/plain": [
       "[1] 177"
      ]
     },
     "metadata": {},
     "output_type": "display_data"
    },
    {
     "data": {
      "text/html": [
       "0"
      ],
      "text/latex": [
       "0"
      ],
      "text/markdown": [
       "0"
      ],
      "text/plain": [
       "[1] 0"
      ]
     },
     "metadata": {},
     "output_type": "display_data"
    },
    {
     "data": {
      "text/html": [
       "0"
      ],
      "text/latex": [
       "0"
      ],
      "text/markdown": [
       "0"
      ],
      "text/plain": [
       "[1] 0"
      ]
     },
     "metadata": {},
     "output_type": "display_data"
    },
    {
     "data": {
      "text/html": [
       "0"
      ],
      "text/latex": [
       "0"
      ],
      "text/markdown": [
       "0"
      ],
      "text/plain": [
       "[1] 0"
      ]
     },
     "metadata": {},
     "output_type": "display_data"
    },
    {
     "data": {
      "text/html": [
       "687"
      ],
      "text/latex": [
       "687"
      ],
      "text/markdown": [
       "687"
      ],
      "text/plain": [
       "[1] 687"
      ]
     },
     "metadata": {},
     "output_type": "display_data"
    },
    {
     "data": {
      "text/html": [
       "177"
      ],
      "text/latex": [
       "177"
      ],
      "text/markdown": [
       "177"
      ],
      "text/plain": [
       "[1] 177"
      ]
     },
     "metadata": {},
     "output_type": "display_data"
    }
   ],
   "source": [
    "# 2.a\n",
    "\n",
    "my_data <- read.csv( \"/public/bmort/R/titanic.csv\")\n",
    "\n",
    "my_data[my_data == 'NA'] <- NA\n",
    "my_data[my_data == ''] <- NA\n",
    "my_data[my_data == 'NaN'] <- NA\n",
    "\n",
    "sum(is.na(my_data$PassengerId))\n",
    "sum(is.na(my_data$Survived))\n",
    "sum(is.na(my_data$Pclass))\n",
    "sum(is.na(my_data$Name))\n",
    "sum(is.na(my_data$Sex))\n",
    "sum(is.na(my_data$Age))\n",
    "sum(is.na(my_data$SibSp))\n",
    "sum(is.na(my_data$Parch))\n",
    "sum(is.na(my_data$Fare))\n",
    "sum(is.na(my_data$Cabin))\n",
    "# sum(is.na(my_data$Embarked))\n",
    "\n",
    "my_data[my_data$Survived == 1, ]$Survived <- \"Yes\"\n",
    "my_data[my_data$Survived == 0, ]$Survived <- \"No\"\n",
    "\n",
    "# convert survived data into factor data\n",
    "my_data$Survived <- as.factor(my_data$Survived)\n",
    "my_data$Pclass <- as.factor(my_data$Pclass)\n",
    "\n",
    "my_data[is.na(my_data)] <- NA\n",
    "nrow(my_data[is.na(my_data$Survived) | \n",
    "             is.na(my_data$Age) | \n",
    "             is.na(my_data$Pclass), ])\n",
    "\n",
    "\n",
    "# removing all NA values\n",
    "my_data <- my_data[!(is.na(my_data$Survived) |\n",
    "                    is.na(my_data$Age) |\n",
    "                    is.na(my_data$Pclass)), ]\n",
    "\n"
   ]
  },
  {
   "cell_type": "markdown",
   "metadata": {},
   "source": [
    "\n",
    "The column \"Age\" has 177 missing values. The column \"Cabin\" has 687 missing values.\n"
   ]
  },
  {
   "cell_type": "markdown",
   "metadata": {},
   "source": [
    "\n",
    "#### Part B\\\n",
    "\\\n",
    "What percent of the passengers survived?"
   ]
  },
  {
   "cell_type": "code",
   "execution_count": 125,
   "metadata": {},
   "outputs": [
    {
     "name": "stdout",
     "output_type": "stream",
     "text": [
      "[1] 0.4061625\n"
     ]
    }
   ],
   "source": [
    "# 2.b\n",
    "\n",
    "n <- length(my_data$Survived)\n",
    "survivor <- length(my_data$Survived[my_data$Survived == 'Yes'])\n",
    "percent <- survivor / n\n",
    "print(percent)"
   ]
  },
  {
   "cell_type": "markdown",
   "metadata": {},
   "source": [
    "\n",
    "Approximately $41.2\\%$ of passengers survived.\n"
   ]
  },
  {
   "cell_type": "markdown",
   "metadata": {},
   "source": [
    "\n",
    "#### Part C\\\n",
    "\\\n",
    "What was the most amount of money that was paid to purchase a ticket by a\n",
    "passenger?\n",
    "\n"
   ]
  },
  {
   "cell_type": "code",
   "execution_count": 126,
   "metadata": {},
   "outputs": [
    {
     "name": "stdout",
     "output_type": "stream",
     "text": [
      "[1] 512.3292\n"
     ]
    }
   ],
   "source": [
    "# 2.c\n",
    "\n",
    "print(max(my_data$Fare))"
   ]
  },
  {
   "cell_type": "markdown",
   "metadata": {},
   "source": [
    "\n",
    "The most amount of money that was paid to purchase a ticket was $512.33.\n"
   ]
  },
  {
   "cell_type": "markdown",
   "metadata": {},
   "source": [
    "\n",
    "#### Part D\\\n",
    "\\\n",
    "How many unique places did the passengers embark from?\n"
   ]
  },
  {
   "cell_type": "code",
   "execution_count": 127,
   "metadata": {},
   "outputs": [
    {
     "name": "stdout",
     "output_type": "stream",
     "text": [
      "[1] 4\n"
     ]
    }
   ],
   "source": [
    "# 2.d\n",
    "print(length(unique(my_data$Embarked)))"
   ]
  },
  {
   "cell_type": "code",
   "execution_count": null,
   "metadata": {},
   "outputs": [],
   "source": [
    "\n",
    "There are four unique places passengers embarked from.\n"
   ]
  },
  {
   "cell_type": "markdown",
   "metadata": {},
   "source": [
    "\n",
    "#### Part E\\\n",
    "\\\n",
    "Partition the titanic data set so that 80% will be used for training and 20% will be\n",
    "used for testing your machine learning model. You can do the partition manually at\n",
    "random or use the createDataPartition() function in R's caret library. "
   ]
  },
  {
   "cell_type": "code",
   "execution_count": 128,
   "metadata": {},
   "outputs": [],
   "source": [
    "# 2.e\n",
    "library(\"caret\")\n",
    "set.seed(123)\n",
    "\n",
    "# partition variables \n",
    "x1 <-my_data$Age\n",
    "x2 <- my_data$Pclass\n",
    "y <- my_data$Survived\n",
    "\n",
    "\n",
    "uni_partition <- createDataPartition(x1, times = 1,  p = 0.8, list = F)\n",
    "x1_partition <- x1[uni_partition]\n",
    "x2_partition <- x2[uni_partition]\n",
    "\n",
    "x1_partition_test <- x1[-uni_partition]\n",
    "x2_partition_test <- x2[-uni_partition]\n",
    "\n",
    "# y data partitioning\n",
    "y_train <- y[uni_partition]\n",
    "y_test <- y[-uni_partition]\n",
    "\n",
    "new_df <- data.frame(x1_partition, x2_partition, y_train)\n",
    "colnames(new_df) <- c(\"Age\", \"Pclass\", \"Survived\")\n",
    "new_df_test <- data.frame(x1_partition_test, x2_partition_test, y_test)\n",
    "colnames(new_df_test) <- c(\"Age\", \"Pclass\", \"Survived\")\n"
   ]
  },
  {
   "cell_type": "markdown",
   "metadata": {},
   "source": [
    "\n",
    "#### Part F\\\n",
    "\\\n",
    "Use a logistic regression method from R's caret library to generate a machine\n",
    "learning model to predict whether a passenger will survive based on the age and\n",
    "class of the passenger. Using the caret library's trainControl() function, check\n",
    "your model parameter and feature selection by performing repeated crossvalidation (with 5-folds) on the training data for your model. Consult the caret\n",
    "library documentation as needed. "
   ]
  },
  {
   "cell_type": "code",
   "execution_count": 129,
   "metadata": {},
   "outputs": [
    {
     "name": "stdout",
     "output_type": "stream",
     "text": [
      "\n",
      "Call:\n",
      "NULL\n",
      "\n",
      "Deviance Residuals: \n",
      "    Min       1Q   Median       3Q      Max  \n",
      "-1.9048  -0.8384  -0.5879   0.9728   2.4838  \n",
      "\n",
      "Coefficients:\n",
      "             Estimate Std. Error z value Pr(>|z|)    \n",
      "(Intercept)  2.486643   0.361407   6.880 5.97e-12 ***\n",
      "Age         -0.047241   0.007657  -6.169 6.86e-10 ***\n",
      "Pclass2     -1.024669   0.265236  -3.863 0.000112 ***\n",
      "Pclass3     -2.548261   0.273074  -9.332  < 2e-16 ***\n",
      "---\n",
      "Signif. codes:  0 ‘***’ 0.001 ‘**’ 0.01 ‘*’ 0.05 ‘.’ 0.1 ‘ ’ 1\n",
      "\n",
      "(Dispersion parameter for binomial family taken to be 1)\n",
      "\n",
      "    Null deviance: 775.73  on 572  degrees of freedom\n",
      "Residual deviance: 656.94  on 569  degrees of freedom\n",
      "AIC: 664.94\n",
      "\n",
      "Number of Fisher Scoring iterations: 4\n",
      "\n"
     ]
    }
   ],
   "source": [
    "# part f\n",
    "library(\"dplyr\")\n",
    "library(\"caret\")\n",
    "set.seed(1)\n",
    "\n",
    "library(caret)\n",
    "\n",
    "control <- trainControl(\n",
    "    method = \"repeatedcv\",\n",
    "    number = 5,\n",
    "    repeats = 3,  \n",
    "  )\n",
    "\n",
    "model <- train(\n",
    "  Survived ~ Age + Pclass,\n",
    "  data = new_df,\n",
    "  method = \"glm\",\n",
    "  family = \"binomial\",\n",
    "  trControl = control\n",
    ")\n",
    "\n",
    "print(summary(model))"
   ]
  },
  {
   "cell_type": "markdown",
   "metadata": {},
   "source": [
    "\n",
    "#### Part G\\ \n",
    "\\\n",
    "Use the test data set (i.e. the 20% of the data that was kept aside earlier) to\n",
    "generate a final validation for your model with the predict() function in the\n",
    "caret library. Generate a confusion matrix and comment on the accuracy of the\n",
    "model. "
   ]
  },
  {
   "cell_type": "code",
   "execution_count": 130,
   "metadata": {},
   "outputs": [
    {
     "name": "stdout",
     "output_type": "stream",
     "text": [
      "Confusion Matrix and Statistics\n",
      "\n",
      "          Reference\n",
      "Prediction No Yes\n",
      "       No  63  24\n",
      "       Yes 23  31\n",
      "                                          \n",
      "               Accuracy : 0.6667          \n",
      "                 95% CI : (0.5824, 0.7437)\n",
      "    No Information Rate : 0.6099          \n",
      "    P-Value [Acc > NIR] : 0.09682         \n",
      "                                          \n",
      "                  Kappa : 0.2972          \n",
      "                                          \n",
      " Mcnemar's Test P-Value : 1.00000         \n",
      "                                          \n",
      "            Sensitivity : 0.7326          \n",
      "            Specificity : 0.5636          \n",
      "         Pos Pred Value : 0.7241          \n",
      "         Neg Pred Value : 0.5741          \n",
      "             Prevalence : 0.6099          \n",
      "         Detection Rate : 0.4468          \n",
      "   Detection Prevalence : 0.6170          \n",
      "      Balanced Accuracy : 0.6481          \n",
      "                                          \n",
      "       'Positive' Class : No              \n",
      "                                          \n"
     ]
    }
   ],
   "source": [
    "# part g\n",
    "\n",
    "predictions <- predict(model, newdata = new_df_test)\n",
    "\n",
    "# Create a confusion matrix\n",
    "conf_matrix <- confusionMatrix(predictions, new_df_test$Survived)\n",
    "\n",
    "# Print the confusion matrix\n",
    "print(conf_matrix)"
   ]
  },
  {
   "cell_type": "markdown",
   "metadata": {},
   "source": [
    "The confusion matrix states the logistic regression is about $66.\\bar{6}\\%$ accurate in predicting a conclusion based on the data inserted. This entails there is a $33.\\bar{3}\\%$ error rate. "
   ]
  },
  {
   "cell_type": "markdown",
   "metadata": {},
   "source": [
    "\n",
    "#### Part H\\\n",
    "\\\n",
    "Based on your model, classify the passengers provided in the unlabeled /public/bmort/R/titanic-unknown.csv data set. Indicate which passengers in this data set survived. How confident are you in the answer? Explain your reasoning."
   ]
  },
  {
   "cell_type": "code",
   "execution_count": 131,
   "metadata": {},
   "outputs": [
    {
     "name": "stdout",
     "output_type": "stream",
     "text": [
      "[1] No  Yes No  Yes No \n",
      "Levels: No Yes\n"
     ]
    }
   ],
   "source": [
    "unknown <- read.csv(\"/public/bmort/R/titanic-unknown.csv\")\n",
    "unknown$Pclass <- as.factor(unknown$Pclass)\n",
    "predict_unknown <- predict(model, newdata = unknown)\n",
    "print(predict_unknown)\n"
   ]
  },
  {
   "cell_type": "markdown",
   "metadata": {},
   "source": [
    "\n",
    "After classifying the unknown passengers provided in the unlabeled data set I found that two passengers are predicted to survive and three are not. I am not very confident in the results of this logistical regression. There are a lot of missing values in the data set which makes having an accurate prediction difficult. Because some the ages were missing there was no prediction for their survival.\n"
   ]
  }
 ],
 "metadata": {
  "kernelspec": {
   "display_name": "R 3.6.1",
   "language": "R",
   "name": "r-3.6.1"
  },
  "language_info": {
   "codemirror_mode": "r",
   "file_extension": ".r",
   "mimetype": "text/x-r-source",
   "name": "R",
   "pygments_lexer": "r",
   "version": "3.6.1"
  }
 },
 "nbformat": 4,
 "nbformat_minor": 2
}
