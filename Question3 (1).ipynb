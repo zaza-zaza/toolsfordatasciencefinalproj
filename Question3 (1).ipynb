{
 "cells": [
  {
   "cell_type": "code",
   "execution_count": 55,
   "metadata": {},
   "outputs": [],
   "source": [
    "import numpy as np\n",
    "import pickle as pkl\n",
    "import pandas as pd\n",
    "import seaborn as sn\n",
    "import matplotlib.pyplot as plt\n",
    "from sklearn import preprocessing\n",
    "from sklearn.preprocessing import LabelEncoder\n",
    "from sklearn.model_selection import train_test_split\n",
    "from sklearn.ensemble import RandomForestClassifier\n",
    "from sklearn.metrics import accuracy_score,\\\n",
    "confusion_matrix,\\\n",
    "precision_score,\\\n",
    "recall_score,\\\n",
    "ConfusionMatrixDisplay,\\\n",
    "classification_report\n",
    "import torch\n",
    "import torch.nn as nn"
   ]
  },
  {
   "cell_type": "markdown",
   "metadata": {},
   "source": [
    "\n",
    "#### Part A\\\n",
    "\\\n",
    "Load the /public/bmort/python/beans.csv data set into a data frame. Are\n",
    "there any missing values? Perform any necessary data imputation on the data set."
   ]
  },
  {
   "cell_type": "code",
   "execution_count": 70,
   "metadata": {},
   "outputs": [
    {
     "name": "stdout",
     "output_type": "stream",
     "text": [
      "Area               0\n",
      "Perimeter          0\n",
      "MajorAxisLength    0\n",
      "MinorAxisLength    0\n",
      "AspectRatio        0\n",
      "Eccentricity       0\n",
      "ConvexArea         0\n",
      "EquivDiameter      0\n",
      "Extent             0\n",
      "Solidity           0\n",
      "roundness          0\n",
      "Compactness        0\n",
      "ShapeFactor1       0\n",
      "ShapeFactor2       0\n",
      "ShapeFactor3       1\n",
      "ShapeFactor4       0\n",
      "Class              0\n",
      "dtype: int64\n"
     ]
    }
   ],
   "source": [
    "# 3.a\n",
    "\n",
    "df = pd.read_table(\"/public/bmort/python/beans.csv\", sep = \",\")\n",
    "\n",
    "nan_count = df.isna().sum()\n",
    "print(nan_count)\n",
    "\n",
    "df.replace(\"NA\", pd.NA, inplace=True)\n",
    "df.fillna(0, inplace = True)\n",
    "nan_count = df.isna().sum()\n"
   ]
  },
  {
   "cell_type": "markdown",
   "metadata": {},
   "source": [
    "\n",
    "ShapeFactor3 is missing a value. I replaced the \"NA\" value with 0.\n"
   ]
  },
  {
   "cell_type": "markdown",
   "metadata": {},
   "source": [
    "\n",
    "#### Part B\\\n",
    "\\\n",
    "Produce a table of summary statistics on the data set. How do the ranges of the\n",
    "values in the columns compare? Does each column of data have similar magnitudes\n",
    "and ranges? Are there any outliers?"
   ]
  },
  {
   "cell_type": "code",
   "execution_count": 57,
   "metadata": {},
   "outputs": [
    {
     "data": {
      "text/html": [
       "<div>\n",
       "<style scoped>\n",
       "    .dataframe tbody tr th:only-of-type {\n",
       "        vertical-align: middle;\n",
       "    }\n",
       "\n",
       "    .dataframe tbody tr th {\n",
       "        vertical-align: top;\n",
       "    }\n",
       "\n",
       "    .dataframe thead th {\n",
       "        text-align: right;\n",
       "    }\n",
       "</style>\n",
       "<table border=\"1\" class=\"dataframe\">\n",
       "  <thead>\n",
       "    <tr style=\"text-align: right;\">\n",
       "      <th></th>\n",
       "      <th>Area</th>\n",
       "      <th>Perimeter</th>\n",
       "      <th>MajorAxisLength</th>\n",
       "      <th>MinorAxisLength</th>\n",
       "      <th>AspectRatio</th>\n",
       "      <th>Eccentricity</th>\n",
       "      <th>ConvexArea</th>\n",
       "      <th>EquivDiameter</th>\n",
       "      <th>Extent</th>\n",
       "      <th>Solidity</th>\n",
       "      <th>roundness</th>\n",
       "      <th>Compactness</th>\n",
       "      <th>ShapeFactor1</th>\n",
       "      <th>ShapeFactor2</th>\n",
       "      <th>ShapeFactor3</th>\n",
       "      <th>ShapeFactor4</th>\n",
       "    </tr>\n",
       "  </thead>\n",
       "  <tbody>\n",
       "    <tr>\n",
       "      <th>count</th>\n",
       "      <td>13533.000000</td>\n",
       "      <td>13533.000000</td>\n",
       "      <td>13533.000000</td>\n",
       "      <td>13533.000000</td>\n",
       "      <td>13533.000000</td>\n",
       "      <td>13533.000000</td>\n",
       "      <td>13533.000000</td>\n",
       "      <td>13533.000000</td>\n",
       "      <td>13533.000000</td>\n",
       "      <td>13533.000000</td>\n",
       "      <td>13533.000000</td>\n",
       "      <td>13533.000000</td>\n",
       "      <td>13533.000000</td>\n",
       "      <td>13533.000000</td>\n",
       "      <td>13533.000000</td>\n",
       "      <td>13533.000000</td>\n",
       "    </tr>\n",
       "    <tr>\n",
       "      <th>mean</th>\n",
       "      <td>53057.388384</td>\n",
       "      <td>855.066479</td>\n",
       "      <td>319.922981</td>\n",
       "      <td>202.378468</td>\n",
       "      <td>1.581111</td>\n",
       "      <td>0.750310</td>\n",
       "      <td>53777.120890</td>\n",
       "      <td>253.052530</td>\n",
       "      <td>0.749827</td>\n",
       "      <td>0.987150</td>\n",
       "      <td>0.873653</td>\n",
       "      <td>0.800347</td>\n",
       "      <td>0.006561</td>\n",
       "      <td>0.001719</td>\n",
       "      <td>0.644289</td>\n",
       "      <td>0.995077</td>\n",
       "    </tr>\n",
       "    <tr>\n",
       "      <th>std</th>\n",
       "      <td>29401.235132</td>\n",
       "      <td>214.781993</td>\n",
       "      <td>85.833897</td>\n",
       "      <td>45.064896</td>\n",
       "      <td>0.245328</td>\n",
       "      <td>0.091890</td>\n",
       "      <td>29853.152141</td>\n",
       "      <td>59.324886</td>\n",
       "      <td>0.048939</td>\n",
       "      <td>0.004651</td>\n",
       "      <td>0.059410</td>\n",
       "      <td>0.061485</td>\n",
       "      <td>0.001130</td>\n",
       "      <td>0.000596</td>\n",
       "      <td>0.098842</td>\n",
       "      <td>0.004348</td>\n",
       "    </tr>\n",
       "    <tr>\n",
       "      <th>min</th>\n",
       "      <td>20420.000000</td>\n",
       "      <td>524.736000</td>\n",
       "      <td>183.601165</td>\n",
       "      <td>122.512653</td>\n",
       "      <td>1.024868</td>\n",
       "      <td>0.218951</td>\n",
       "      <td>20684.000000</td>\n",
       "      <td>161.243764</td>\n",
       "      <td>0.555315</td>\n",
       "      <td>0.919246</td>\n",
       "      <td>0.489618</td>\n",
       "      <td>0.640577</td>\n",
       "      <td>0.002778</td>\n",
       "      <td>0.000564</td>\n",
       "      <td>0.000000</td>\n",
       "      <td>0.947687</td>\n",
       "    </tr>\n",
       "    <tr>\n",
       "      <th>25%</th>\n",
       "      <td>36269.000000</td>\n",
       "      <td>703.180000</td>\n",
       "      <td>253.059398</td>\n",
       "      <td>175.884179</td>\n",
       "      <td>1.430641</td>\n",
       "      <td>0.715134</td>\n",
       "      <td>36669.000000</td>\n",
       "      <td>214.893288</td>\n",
       "      <td>0.718753</td>\n",
       "      <td>0.985675</td>\n",
       "      <td>0.833360</td>\n",
       "      <td>0.763181</td>\n",
       "      <td>0.005890</td>\n",
       "      <td>0.001158</td>\n",
       "      <td>0.582424</td>\n",
       "      <td>0.993717</td>\n",
       "    </tr>\n",
       "    <tr>\n",
       "      <th>50%</th>\n",
       "      <td>44581.000000</td>\n",
       "      <td>793.897000</td>\n",
       "      <td>296.441382</td>\n",
       "      <td>192.500481</td>\n",
       "      <td>1.549898</td>\n",
       "      <td>0.764011</td>\n",
       "      <td>45123.000000</td>\n",
       "      <td>238.248383</td>\n",
       "      <td>0.759903</td>\n",
       "      <td>0.988287</td>\n",
       "      <td>0.883447</td>\n",
       "      <td>0.801505</td>\n",
       "      <td>0.006643</td>\n",
       "      <td>0.001700</td>\n",
       "      <td>0.642410</td>\n",
       "      <td>0.996393</td>\n",
       "    </tr>\n",
       "    <tr>\n",
       "      <th>75%</th>\n",
       "      <td>61422.000000</td>\n",
       "      <td>977.266000</td>\n",
       "      <td>376.352986</td>\n",
       "      <td>217.263451</td>\n",
       "      <td>1.704026</td>\n",
       "      <td>0.809699</td>\n",
       "      <td>62388.000000</td>\n",
       "      <td>279.651425</td>\n",
       "      <td>0.786847</td>\n",
       "      <td>0.990018</td>\n",
       "      <td>0.917039</td>\n",
       "      <td>0.834520</td>\n",
       "      <td>0.007271</td>\n",
       "      <td>0.002173</td>\n",
       "      <td>0.696423</td>\n",
       "      <td>0.997891</td>\n",
       "    </tr>\n",
       "    <tr>\n",
       "      <th>max</th>\n",
       "      <td>254616.000000</td>\n",
       "      <td>1985.370000</td>\n",
       "      <td>738.860154</td>\n",
       "      <td>460.198497</td>\n",
       "      <td>2.430306</td>\n",
       "      <td>0.911423</td>\n",
       "      <td>263261.000000</td>\n",
       "      <td>569.374358</td>\n",
       "      <td>0.866195</td>\n",
       "      <td>0.994677</td>\n",
       "      <td>0.990685</td>\n",
       "      <td>0.987303</td>\n",
       "      <td>0.010451</td>\n",
       "      <td>0.003665</td>\n",
       "      <td>0.974767</td>\n",
       "      <td>0.999733</td>\n",
       "    </tr>\n",
       "  </tbody>\n",
       "</table>\n",
       "</div>"
      ],
      "text/plain": [
       "                Area     Perimeter  MajorAxisLength  MinorAxisLength  \\\n",
       "count   13533.000000  13533.000000     13533.000000     13533.000000   \n",
       "mean    53057.388384    855.066479       319.922981       202.378468   \n",
       "std     29401.235132    214.781993        85.833897        45.064896   \n",
       "min     20420.000000    524.736000       183.601165       122.512653   \n",
       "25%     36269.000000    703.180000       253.059398       175.884179   \n",
       "50%     44581.000000    793.897000       296.441382       192.500481   \n",
       "75%     61422.000000    977.266000       376.352986       217.263451   \n",
       "max    254616.000000   1985.370000       738.860154       460.198497   \n",
       "\n",
       "        AspectRatio  Eccentricity     ConvexArea  EquivDiameter        Extent  \\\n",
       "count  13533.000000  13533.000000   13533.000000   13533.000000  13533.000000   \n",
       "mean       1.581111      0.750310   53777.120890     253.052530      0.749827   \n",
       "std        0.245328      0.091890   29853.152141      59.324886      0.048939   \n",
       "min        1.024868      0.218951   20684.000000     161.243764      0.555315   \n",
       "25%        1.430641      0.715134   36669.000000     214.893288      0.718753   \n",
       "50%        1.549898      0.764011   45123.000000     238.248383      0.759903   \n",
       "75%        1.704026      0.809699   62388.000000     279.651425      0.786847   \n",
       "max        2.430306      0.911423  263261.000000     569.374358      0.866195   \n",
       "\n",
       "           Solidity     roundness   Compactness  ShapeFactor1  ShapeFactor2  \\\n",
       "count  13533.000000  13533.000000  13533.000000  13533.000000  13533.000000   \n",
       "mean       0.987150      0.873653      0.800347      0.006561      0.001719   \n",
       "std        0.004651      0.059410      0.061485      0.001130      0.000596   \n",
       "min        0.919246      0.489618      0.640577      0.002778      0.000564   \n",
       "25%        0.985675      0.833360      0.763181      0.005890      0.001158   \n",
       "50%        0.988287      0.883447      0.801505      0.006643      0.001700   \n",
       "75%        0.990018      0.917039      0.834520      0.007271      0.002173   \n",
       "max        0.994677      0.990685      0.987303      0.010451      0.003665   \n",
       "\n",
       "       ShapeFactor3  ShapeFactor4  \n",
       "count  13533.000000  13533.000000  \n",
       "mean       0.644289      0.995077  \n",
       "std        0.098842      0.004348  \n",
       "min        0.000000      0.947687  \n",
       "25%        0.582424      0.993717  \n",
       "50%        0.642410      0.996393  \n",
       "75%        0.696423      0.997891  \n",
       "max        0.974767      0.999733  "
      ]
     },
     "execution_count": 57,
     "metadata": {},
     "output_type": "execute_result"
    }
   ],
   "source": [
    "# 3.b\n",
    "\n",
    "df.describe()"
   ]
  },
  {
   "cell_type": "markdown",
   "metadata": {},
   "source": [
    "\n",
    "There are a wide range of summary statistics in this data set. The means range from the tens of thousands to thousandths. There is a very large variation of means across the data set. I think that the largest outlier is the ConvexArea column. It has the largest mean out of all the means in the data set.\n"
   ]
  },
  {
   "cell_type": "markdown",
   "metadata": {},
   "source": [
    "\n",
    "#### Part C\\\n",
    "\\\n",
    "Using the Python seaborn library’s heatmap() function, generate a plot showing\n",
    "the correlations between the numerical data in the data set. Show the commands\n",
    "used to generate the plot and include the plot in your output"
   ]
  },
  {
   "cell_type": "code",
   "execution_count": 58,
   "metadata": {},
   "outputs": [
    {
     "data": {
      "image/png": "[encoded data removed]",
      "text/plain": [
       "<Figure size 640x480 with 2 Axes>"
      ]
     },
     "metadata": {},
     "output_type": "display_data"
    }
   ],
   "source": [
    "# 3.c\n",
    "\n",
    "df_2 = df.drop(['Class'], axis=1)\n",
    "hm = sn.heatmap(data = df_2)\n",
    "plt.show()"
   ]
  },
  {
   "cell_type": "markdown",
   "metadata": {},
   "source": [
    "\n",
    "#### Part D\\\n",
    "\\\n",
    "Based on the correlation plot, decide which features to include for machine learning.\n",
    "Decide if any of these features need to be standardized or scaled appropriately."
   ]
  },
  {
   "cell_type": "code",
   "execution_count": 59,
   "metadata": {},
   "outputs": [],
   "source": [
    "# 3.d\n",
    "\n",
    "normal = df.copy()\n",
    "\n",
    "for i in normal.columns:\n",
    "    if(i == 'Class'):\n",
    "        continue\n",
    "    if normal[i].dtype != float:\n",
    "        normal[i] = normal[i].astype(float)\n",
    "    \n",
    "    if normal[i].min() > 1 and i != 'Class':\n",
    "        normal[i] = preprocessing.scale(normal[i])\n",
    "        normal[i] = abs(normal[i])"
   ]
  },
  {
   "cell_type": "markdown",
   "metadata": {},
   "source": [
    "\n",
    "Based on the heatmap representation of the data Area and ConvexArea are very large outliers. I am deciding to scale all data columns with mininmum values greater than 1. I will scale these numbers down to reduce the effect of outliers.\n"
   ]
  },
  {
   "cell_type": "markdown",
   "metadata": {},
   "source": [
    "\n",
    "#### Part E\\\n",
    "\\\n",
    "Partition the beans data set so that a random sample of 80% of the data will be used\n",
    "for training and 20% will be used for testing your machine learning model."
   ]
  },
  {
   "cell_type": "code",
   "execution_count": 60,
   "metadata": {},
   "outputs": [],
   "source": [
    "# 3.e\n",
    "\n",
    "X = df.drop('Class', axis = 1)\n",
    "y = df['Class']\n",
    "X_train, X_test, y_train, y_test = train_test_split(X, y, test_size=0.2, random_state = 42)"
   ]
  },
  {
   "cell_type": "markdown",
   "metadata": {},
   "source": [
    "\n",
    "#### Part F\\\n",
    "\\\n",
    "Using the scikit-learn library, generate a random forest machine learning model for\n",
    "classifying the 7 types of beans based on the chosen features from the data set. Use\n",
    "50 trees to build the model. "
   ]
  },
  {
   "cell_type": "code",
   "execution_count": 65,
   "metadata": {},
   "outputs": [],
   "source": [
    "# 3.f\n",
    "\n",
    "rf = RandomForestClassifier(n_estimators = 50, random_state = 42)\n",
    "rf_model = rf.fit(X_train, y_train)"
   ]
  },
  {
   "cell_type": "markdown",
   "metadata": {},
   "source": [
    "\n",
    "#### Part G\\\n",
    "\\\n",
    "Use the test data set (i.e. the 20% of the data that was kept aside earlier) to\n",
    "generate a final validation for your model. Generate a multi-class confusion matrix\n",
    "for the test data to demonstrate the accuracy of the model. Comment on the\n",
    "accuracy of the model. "
   ]
  },
  {
   "cell_type": "code",
   "execution_count": 66,
   "metadata": {},
   "outputs": [
    {
     "name": "stdout",
     "output_type": "stream",
     "text": [
      "Accuracy: 0.9190986331732546\n",
      "Classification Report:\n",
      "               precision    recall  f1-score   support\n",
      "\n",
      "    BARBUNYA       0.94      0.89      0.91       262\n",
      "      BOMBAY       1.00      1.00      1.00       112\n",
      "        CALI       0.93      0.93      0.93       327\n",
      "    DERMASON       0.89      0.93      0.91       680\n",
      "       HOROZ       0.95      0.94      0.94       385\n",
      "       SEKER       0.94      0.95      0.95       414\n",
      "        SIRA       0.88      0.85      0.87       527\n",
      "\n",
      "    accuracy                           0.92      2707\n",
      "   macro avg       0.93      0.93      0.93      2707\n",
      "weighted avg       0.92      0.92      0.92      2707\n",
      "\n"
     ]
    },
    {
     "data": {
      "image/png": "[encoded data removed]",
      "text/plain": [
       "<Figure size 640x480 with 2 Axes>"
      ]
     },
     "metadata": {},
     "output_type": "display_data"
    }
   ],
   "source": [
    "#  3.g\n",
    "\n",
    "y_predict = rf.predict(X_test)\n",
    "cm = confusion_matrix(y_test, y_predict)\n",
    "accuracy = accuracy_score(y_test, y_predict)\n",
    "classification_report_str = classification_report(y_test, y_predict)\n",
    "ConfusionMatrixDisplay(confusion_matrix = cm).plot()\n",
    "classification_report_str = classification_report(y_test, y_predict)\n",
    "\n",
    "\n",
    "print(\"Accuracy:\", accuracy)\n",
    "print(\"Classification Report:\\n\", classification_report_str)\n"
   ]
  },
  {
   "cell_type": "markdown",
   "metadata": {},
   "source": [
    "\n",
    "The accuracy of the model is about 92%. I find this accuracy to be very good for the model. The precision between all the beans are pretty decent as well. Sira beans have the least precision while Bombay beans has the most precision. When looking at the support column it can be seen that Sira beans were the second most frequent categoriy in the data set while Bombay beans were the least frequent. This may explain the discrepency between these to classes.\n"
   ]
  },
  {
   "cell_type": "markdown",
   "metadata": {},
   "source": [
    "\n",
    "#### Part H\\\n",
    "\\\n",
    "Based on your model, classify the beans provided in the unlabeled\n",
    "/public/bmort/python/beans-unknown.csv data set. Indicate which\n",
    "5 classification of the 7 available types has been assigned to each of the 5 unlabeled beans"
   ]
  },
  {
   "cell_type": "code",
   "execution_count": 67,
   "metadata": {},
   "outputs": [],
   "source": [
    "# 3.h\n",
    "unknown = pd.read_table(\"/public/bmort/python/beans-unknown.csv\", sep =\",\")"
   ]
  },
  {
   "cell_type": "code",
   "execution_count": 68,
   "metadata": {},
   "outputs": [
    {
     "name": "stdout",
     "output_type": "stream",
     "text": [
      "['DERMASON' 'DERMASON' 'DERMASON' 'DERMASON' 'DERMASON']\n"
     ]
    }
   ],
   "source": [
    "# preprocessing\n",
    "\n",
    "for i in unknown.columns:\n",
    "    if unknown[i].dtype != float:\n",
    "        unknown[i] = unknown[i].astype(float)\n",
    "    \n",
    "    if unknown[i].min() > 1:\n",
    "        unknown[i] = preprocessing.scale(unknown[i])\n",
    "        unknown[i] = abs(unknown[i])\n",
    "      \n",
    "prediction = rf.predict(unknown)\n",
    "print(prediction)\n"
   ]
  },
  {
   "cell_type": "markdown",
   "metadata": {},
   "source": [
    "\n",
    "After running the unclassified beans though the prediction model, the model stated that each unclassified bean is a Dermason bean.\n"
   ]
  }
 ],
 "metadata": {
  "kernelspec": {
   "display_name": "Python 3 (anaconda3 2023.07-2)",
   "language": "python",
   "name": "anaconda3-2023.07-2"
  },
  "language_info": {
   "codemirror_mode": {
    "name": "ipython",
    "version": 3
   },
   "file_extension": ".py",
   "mimetype": "text/x-python",
   "name": "python",
   "nbconvert_exporter": "python",
   "pygments_lexer": "ipython3",
   "version": "3.11.4"
  }
 },
 "nbformat": 4,
 "nbformat_minor": 4
}
